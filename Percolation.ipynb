{
 "cells": [
  {
   "cell_type": "code",
   "execution_count": 1,
   "metadata": {},
   "outputs": [],
   "source": [
    "import numpy as np\n",
    "import matplotlib.pyplot as plt"
   ]
  },
  {
   "cell_type": "code",
   "execution_count": 2,
   "metadata": {},
   "outputs": [],
   "source": [
    "def grid(n,prob):\n",
    "    \"\"\"\n",
    "    Construct a grid with dimension n with probability prob\n",
    "    \"\"\"\n",
    "    a = np.zeros((n,n), dtype= int)\n",
    "    values = [0,1]\n",
    "    prob = prob\n",
    "    for i in range(len(a)):\n",
    "        for j in range(len(a[i])):\n",
    "            a[i,j] = np.random.choice(values,p= [prob, 1-prob] )\n",
    "    return a"
   ]
  },
  {
   "cell_type": "code",
   "execution_count": 5,
   "metadata": {},
   "outputs": [],
   "source": [
    "def monte_carlo(samples,n, prob):\n",
    "    \"\"\"\n",
    "    samples: number of samples (int)\n",
    "    n: size of matrix  (odd int)\n",
    "    prob: probability of getting 1 or 0 (0<=prob<=1)\n",
    "    \"\"\"\n",
    "    count = 0.\n",
    "    for i in range(samples):\n",
    "        b = grid(n,prob)\n",
    "        #Mark where to start\n",
    "        b[(n-1)/2][(n-1)/2] = 2\n",
    "        #Search and replace\n",
    "        a = True\n",
    "        plt.imshow(b)\n",
    "        plt.show()\n",
    "        q = True\n",
    "        while a == True:\n",
    "            for (i,j),v in np.ndenumerate(b):\n",
    "            #Search on the position matrix where is 1\n",
    "                if b[i,j] == 2:                    \n",
    "                    #exclude borders:\n",
    "                    if i+1 in range(n):\n",
    "                        if i-1 in range(n):\n",
    "                            if j+1 in range(n):\n",
    "                                if j-1 in range(n):\n",
    "                                    #If blocked end program:\n",
    "                                    if b[i+1,j] != 0:\n",
    "                                        if b[i-1,j] != 0:\n",
    "                                            if b[i,j+1] != 0:\n",
    "                                                if b[i,j-1] != 0:                                                    \n",
    "                                                    a = False\n",
    "                                                                                                        \n",
    "                                    #Write in the bottom cell\n",
    "                                    if b[i+1,j] == 0:\n",
    "                                        b[i+1,j] = 2\n",
    "                                        \n",
    "                                    #Write in the right cell\n",
    "                                    if b[i,j+1] == 0:\n",
    "                                        b[i,j+1] = 2\n",
    "                                        \n",
    "                                    #write in the top cell\n",
    "                                    if b[i-1,j] == 0:\n",
    "                                        b[i-1,j] = 2                                        \n",
    "                                        \n",
    "                                    #write in the left cell\n",
    "                                    if b[i,j-1] == 0:\n",
    "                                        b[i,j-1] = 2\n",
    "                                else:                                    \n",
    "                                    count +=1\n",
    "                                    a = False\n",
    "                                                                        \n",
    "                            else:\n",
    "                                count +=1\n",
    "                                a = False\n",
    "                                \n",
    "                        else:                           \n",
    "                            count +=1\n",
    "                            a = False\n",
    "                            \n",
    "                    else:                                                                    \n",
    "                        count +=1\n",
    "                        a = False\n",
    "                        \n",
    "                                                    \n",
    "        plt.imshow(b)\n",
    "        plt.show()\n",
    "        print(count)   \n",
    "    return(count/samples)"
   ]
  },
  {
   "cell_type": "code",
   "execution_count": 6,
   "metadata": {
    "scrolled": true
   },
   "outputs": [
    {
     "data": {
      "image/png": "[encoded data removed]",
      "text/plain": [
       "<Figure size 432x288 with 1 Axes>"
      ]
     },
     "metadata": {
      "needs_background": "light"
     },
     "output_type": "display_data"
    },
    {
     "data": {
      "image/png": "[encoded data removed]",
      "text/plain": [
       "<Figure size 432x288 with 1 Axes>"
      ]
     },
     "metadata": {
      "needs_background": "light"
     },
     "output_type": "display_data"
    },
    {
     "name": "stdout",
     "output_type": "stream",
     "text": [
      "0.0\n"
     ]
    },
    {
     "data": {
      "image/png": "[encoded data removed]",
      "text/plain": [
       "<Figure size 432x288 with 1 Axes>"
      ]
     },
     "metadata": {
      "needs_background": "light"
     },
     "output_type": "display_data"
    },
    {
     "data": {
      "image/png": "[encoded data removed]",
      "text/plain": [
       "<Figure size 432x288 with 1 Axes>"
      ]
     },
     "metadata": {
      "needs_background": "light"
     },
     "output_type": "display_data"
    },
    {
     "name": "stdout",
     "output_type": "stream",
     "text": [
      "0.0\n"
     ]
    },
    {
     "data": {
      "text/plain": [
       "0.0"
      ]
     },
     "execution_count": 6,
     "metadata": {},
     "output_type": "execute_result"
    }
   ],
   "source": [
    "monte_carlo(2,5,0.4)"
   ]
  },
  {
   "cell_type": "code",
   "execution_count": null,
   "metadata": {},
   "outputs": [],
   "source": []
  },
  {
   "cell_type": "code",
   "execution_count": 105,
   "metadata": {},
   "outputs": [],
   "source": [
    "def is_empty(b,i,j):\n",
    "    #up bound\n",
    "    if i+1 in range(len(b)):\n",
    "        if b[i+1,j] == 0:\n",
    "            b[i+1,j] = 2\n",
    "    #down bound\n",
    "    if i-1 in range(len(b)):                           \n",
    "        if b[i-1,j] == 0:\n",
    "            b[i-1,j] = 2\n",
    "    #right bound\n",
    "    if j+1 in range(len(b)):                 \n",
    "        if b[i,j+1] == 0:\n",
    "            b[i,j+1] = 2                                \n",
    "    #left bound\n",
    "    if j-1 in range(len(b)):\n",
    "        if b[i,j-1] == 0:\n",
    "            b[i,j-1] = 2 \n",
    "    \n",
    "    return\n",
    "\n",
    "def is_there_a_path(b,i,j):\n",
    "    q = True\n",
    "    if i-1 not in range(len(b)):\n",
    "        if j-1 not in range(len(b)):\n",
    "            if j+1 in range(len(b)):                \n",
    "                if b[i+1,j] != 0:\n",
    "                    if b[i,j+1] != 0:\n",
    "                        return False \n",
    "                    \n",
    "        if j+1 not in range(len(b)):\n",
    "            if j-1 in range(len(b)):\n",
    "                if b[i+1,j] != 0:\n",
    "                    if b[i,j-1] != 0:\n",
    "                        return False\n",
    "                    \n",
    "    if i+1 not in range(len(b)):\n",
    "        if j-1 not in range(len(b)):\n",
    "            if j+1 in range(len(b)):\n",
    "                if b[i-1,j] != 0:\n",
    "                    if b[i,j+1] != 0:\n",
    "                        \n",
    "                        return False\n",
    "        \n",
    "        if j+1 not in range(len(b)):\n",
    "            if j-1 in range(len(b)):\n",
    "                if b[i-1,j] != 0:\n",
    "                    if b[i,j-1] != 0:\n",
    "                        return False\n",
    "\n",
    "    if i-1 not in range(len(b)):\n",
    "        if j+1 in range(len(b)):\n",
    "            if b[i+1,j] != 0:\n",
    "                if b[i,j+1] != 0:\n",
    "                    if b[i,j-1] != 0:\n",
    "                        return False\n",
    "        if j-1 in range(len(b)):\n",
    "            if j+1 in range(len(b)):\n",
    "                if b[i+1,j] != 0:\n",
    "                    if b[i,j+1] != 0:\n",
    "                        if b[i,j-1] != 0:\n",
    "                            return False\n",
    "                    \n",
    "    if i+1 not in range(len(b)):\n",
    "        if j+1 in range(len(b)):\n",
    "            if b[i-1,j] != 0:\n",
    "                if b[i,j+1] != 0:\n",
    "                    if b[i,j-1] != 0:\n",
    "                        return False\n",
    "        if j-1 in range(len(b)):\n",
    "            if j+1 in range(len(b)):\n",
    "                if b[i-1,j] != 0:\n",
    "                    if b[i,j+1] != 0:\n",
    "                        if b[i,j-1] != 0:\n",
    "                            return False\n",
    "\n",
    "    if i+1 in range(len(b)):\n",
    "        if i-1 in range(len(b)):                           \n",
    "            if j+1 in range(len(b)):                 \n",
    "                if j-1 in range(len(b)):\n",
    "                    if b[i+1,j] != 0:\n",
    "                        if b[i-1,j] != 0:\n",
    "                            if b[i,j+1] != 0:\n",
    "                                if b[i,j-1] != 0:    \n",
    "                                    return False\n",
    "    return q\n",
    "\n",
    "def fill(a):\n",
    "    check = []\n",
    "    for i in range(len(a)):\n",
    "        for j in range(len(a)):\n",
    "            check.append(is_there_a_path(a,i,j))\n",
    "    if False in check:\n",
    "        pass\n",
    "    else:\n",
    "        for i in range(len(a)):\n",
    "            for j in range(len(a)):\n",
    "                    is_empty(a,i,j)\n",
    "\n",
    "def percolate(a):\n",
    "    if 2 in a[len(a)-1]:\n",
    "        return True\n",
    "    else:\n",
    "        return False"
   ]
  },
  {
   "cell_type": "code",
   "execution_count": 11,
   "metadata": {
    "scrolled": false
   },
   "outputs": [
    {
     "name": "stdout",
     "output_type": "stream",
     "text": [
      "[[1 0 0 0 1]\n",
      " [0 1 0 0 0]\n",
      " [1 0 0 1 1]\n",
      " [1 0 1 0 0]\n",
      " [1 1 0 1 0]]\n"
     ]
    },
    {
     "ename": "NameError",
     "evalue": "name 'fill' is not defined",
     "output_type": "error",
     "traceback": [
      "\u001b[0;31m---------------------------------------------------------------------------\u001b[0m",
      "\u001b[0;31mNameError\u001b[0m                                 Traceback (most recent call last)",
      "\u001b[0;32m<ipython-input-11-b4cd84a2c9f6>\u001b[0m in \u001b[0;36m<module>\u001b[0;34m()\u001b[0m\n\u001b[1;32m      3\u001b[0m \u001b[0ma\u001b[0m \u001b[0;34m=\u001b[0m \u001b[0mgrid\u001b[0m\u001b[0;34m(\u001b[0m\u001b[0mn\u001b[0m\u001b[0;34m,\u001b[0m\u001b[0mp\u001b[0m\u001b[0;34m)\u001b[0m\u001b[0;34m\u001b[0m\u001b[0m\n\u001b[1;32m      4\u001b[0m \u001b[0;32mprint\u001b[0m\u001b[0;34m(\u001b[0m\u001b[0ma\u001b[0m\u001b[0;34m)\u001b[0m\u001b[0;34m\u001b[0m\u001b[0m\n\u001b[0;32m----> 5\u001b[0;31m \u001b[0mfill\u001b[0m\u001b[0;34m(\u001b[0m\u001b[0ma\u001b[0m\u001b[0;34m)\u001b[0m\u001b[0;34m\u001b[0m\u001b[0m\n\u001b[0m\u001b[1;32m      6\u001b[0m \u001b[0;32mprint\u001b[0m\u001b[0;34m(\u001b[0m\u001b[0ma\u001b[0m\u001b[0;34m)\u001b[0m\u001b[0;34m\u001b[0m\u001b[0m\n\u001b[1;32m      7\u001b[0m \u001b[0;32mprint\u001b[0m\u001b[0;34m(\u001b[0m\u001b[0mpercolate\u001b[0m\u001b[0;34m(\u001b[0m\u001b[0ma\u001b[0m\u001b[0;34m)\u001b[0m\u001b[0;34m)\u001b[0m\u001b[0;34m\u001b[0m\u001b[0m\n",
      "\u001b[0;31mNameError\u001b[0m: name 'fill' is not defined"
     ]
    }
   ],
   "source": [
    "n = 5\n",
    "p = 0.5\n",
    "a = grid(n,p)\n",
    "print(a)\n",
    "fill(a)\n",
    "print(a)\n",
    "print(percolate(a))"
   ]
  },
  {
   "cell_type": "code",
   "execution_count": 75,
   "metadata": {},
   "outputs": [],
   "source": [
    "def monte_carlo(samples,n, prob):\n",
    "    \"\"\"\n",
    "    samples: number of samples (int)\n",
    "    n: size of matrix  (odd int)\n",
    "    prob: probability of getting 1 or 0 (0<=prob<=1)\n",
    "    \"\"\"\n",
    "    count = 0.\n",
    "    for i in range(samples):\n",
    "        a = grid(n,prob)\n",
    "        print(a)\n",
    "        fill(a)\n",
    "        print(a)\n",
    "        print(percolate(a))\n",
    "        if percolate(a) == True:\n",
    "            count += 1\n",
    "        \n",
    "    return count/samples"
   ]
  },
  {
   "cell_type": "code",
   "execution_count": 77,
   "metadata": {},
   "outputs": [
    {
     "name": "stdout",
     "output_type": "stream",
     "text": [
      "[[1 1 0 0 0]\n",
      " [0 0 1 1 0]\n",
      " [0 0 1 0 0]\n",
      " [1 1 0 1 0]\n",
      " [1 0 0 1 1]]\n",
      "(0, 0)\n",
      "(0, 1)\n",
      "(0, 2)\n",
      "(0, 3)\n",
      "(0, 4)\n",
      "(1, 0)\n",
      "(1, 1)\n",
      "(1, 2)\n",
      "(1, 3)\n",
      "(1, 4)\n",
      "(2, 0)\n",
      "(2, 1)\n",
      "(2, 2)\n",
      "(2, 3)\n",
      "(2, 4)\n",
      "(3, 0)\n",
      "(3, 1)\n",
      "(3, 2)\n",
      "(3, 3)\n",
      "(3, 4)\n",
      "(4, 0)\n",
      "(4, 1)\n",
      "(4, 2)\n",
      "(4, 3)\n",
      "(4, 4)\n",
      "[[1 1 2 2 2]\n",
      " [2 2 1 1 2]\n",
      " [2 2 1 2 2]\n",
      " [1 1 2 1 2]\n",
      " [1 2 2 1 1]]\n",
      "True\n",
      "[[0 1 1 0 1]\n",
      " [1 0 0 1 1]\n",
      " [1 0 1 0 0]\n",
      " [1 0 1 1 1]\n",
      " [1 1 1 0 0]]\n",
      "(0, 0)\n",
      "(0, 1)\n",
      "(0, 2)\n",
      "(0, 3)\n",
      "(0, 4)\n",
      "(1, 0)\n",
      "(1, 1)\n",
      "(1, 2)\n",
      "(1, 3)\n",
      "(1, 4)\n",
      "(2, 0)\n",
      "(2, 1)\n",
      "(2, 2)\n",
      "(2, 3)\n",
      "(2, 4)\n",
      "(3, 0)\n",
      "(3, 1)\n",
      "(3, 2)\n",
      "(3, 3)\n",
      "(3, 4)\n",
      "(4, 0)\n",
      "(4, 1)\n",
      "(4, 2)\n",
      "(4, 3)\n",
      "(4, 4)\n",
      "[[0 1 1 0 1]\n",
      " [1 0 0 1 1]\n",
      " [1 0 1 0 0]\n",
      " [1 0 1 1 1]\n",
      " [1 1 1 0 0]]\n",
      "False\n"
     ]
    },
    {
     "data": {
      "text/plain": [
       "0.5"
      ]
     },
     "execution_count": 77,
     "metadata": {},
     "output_type": "execute_result"
    }
   ],
   "source": [
    "monte_carlo(2,5,0.5)"
   ]
  },
  {
   "cell_type": "code",
   "execution_count": 6,
   "metadata": {
    "collapsed": true
   },
   "outputs": [],
   "source": [
    "def choose_indicies(i,j):\n",
    "    x = i\n",
    "    y = j\n",
    "    while x == i and y == j or  (x== i+1 and y== j+1) or (x== i-1 and y== i-1):\n",
    "        x = np.random.choice([i+1,i-1,i])\n",
    "        y = np.random.choice([j+1,j-1,j])\n",
    "    return x,y"
   ]
  },
  {
   "cell_type": "code",
   "execution_count": 6,
   "metadata": {
    "collapsed": true,
    "scrolled": true
   },
   "outputs": [],
   "source": [
    "a = True\n",
    "while a == True:\n",
    "    x = 2\n",
    "    y = 2\n",
    "    ind = choose_indicies(x,y)\n",
    "    if ind[0] or ind[1] > 2 or ind[0] or ind[1] < 0:\n",
    "        a = False\n",
    "    \n",
    "    else:\n",
    "         if b[ind] == 0:\n",
    "            a = True\n",
    "            x = ind[0]\n",
    "            y = ind[1]\n",
    "            print(x,y)"
   ]
  }
 ],
 "metadata": {
  "anaconda-cloud": {},
  "kernelspec": {
   "display_name": "Python 2",
   "language": "python",
   "name": "python2"
  },
  "language_info": {
   "codemirror_mode": {
    "name": "ipython",
    "version": 2
   },
   "file_extension": ".py",
   "mimetype": "text/x-python",
   "name": "python",
   "nbconvert_exporter": "python",
   "pygments_lexer": "ipython2",
   "version": "2.7.16"
  }
 },
 "nbformat": 4,
 "nbformat_minor": 2
}
