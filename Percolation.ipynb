{
 "cells": [
  {
   "cell_type": "code",
   "execution_count": 1,
   "metadata": {},
   "outputs": [],
   "source": [
    "import numpy as np\n",
    "import matplotlib.pyplot as plt"
   ]
  },
  {
   "cell_type": "code",
   "execution_count": 2,
   "metadata": {},
   "outputs": [],
   "source": [
    "def grid(n, prob):\n",
    "    \"\"\"\n",
    "    Construct a grid with dimension n with probability prob\n",
    "    \"\"\"\n",
    "    return np.random.choice([0, 1], size=(n, n), p=[prob, 1-prob])"
   ]
  },
  {
   "cell_type": "code",
   "execution_count": 3,
   "metadata": {},
   "outputs": [],
   "source": [
    "def monte_carlo(samples, n, prob):\n",
    "    \"\"\"\n",
    "    samples: number of samples (int)\n",
    "    n: size of matrix  (odd int)\n",
    "    prob: probability of getting 1 or 0 (0<=prob<=1)\n",
    "    \"\"\"\n",
    "    count = 0\n",
    "    for _ in range(samples):\n",
    "        b = grid(n, prob)\n",
    "        b[(n-1)//2][(n-1)//2] = 2\n",
    "        stop = False\n",
    "        while not stop:\n",
    "            change = False\n",
    "            for i, j in zip(*np.where(b == 2)):\n",
    "                if i == 0 or j == 0 or i == n - 1 or j == n - 1:\n",
    "                    count += 1\n",
    "                    stop = True\n",
    "                    break\n",
    "                if b[i+1, j] == 0:\n",
    "                    b[i+1, j] = 2\n",
    "                    change = True\n",
    "                if b[i, j+1] == 0:\n",
    "                    b[i, j+1] = 2\n",
    "                    change = True\n",
    "                if b[i-1, j] == 0:\n",
    "                    b[i-1, j] = 2\n",
    "                    change = True\n",
    "                if b[i, j-1] == 0:\n",
    "                    b[i, j-1] = 2\n",
    "                    change = True\n",
    "            if not change:\n",
    "                stop = True\n",
    "        plt.imshow(b)\n",
    "        plt.show()\n",
    "    return count / samples"
   ]
  },
  {
   "cell_type": "code",
   "execution_count": 4,
   "metadata": {
    "scrolled": true
   },
   "outputs": [
    {
     "data": {
      "image/png": "[encoded data removed]",
      "text/plain": [
       "<Figure size 432x288 with 1 Axes>"
      ]
     },
     "metadata": {
      "needs_background": "light"
     },
     "output_type": "display_data"
    },
    {
     "data": {
      "image/png": "[encoded data removed]",
      "text/plain": [
       "<Figure size 432x288 with 1 Axes>"
      ]
     },
     "metadata": {
      "needs_background": "light"
     },
     "output_type": "display_data"
    },
    {
     "data": {
      "image/png": "[encoded data removed]",
      "text/plain": [
       "<Figure size 432x288 with 1 Axes>"
      ]
     },
     "metadata": {
      "needs_background": "light"
     },
     "output_type": "display_data"
    },
    {
     "data": {
      "image/png": "[encoded data removed]",
      "text/plain": [
       "<Figure size 432x288 with 1 Axes>"
      ]
     },
     "metadata": {
      "needs_background": "light"
     },
     "output_type": "display_data"
    },
    {
     "data": {
      "text/plain": [
       "0.75"
      ]
     },
     "execution_count": 4,
     "metadata": {},
     "output_type": "execute_result"
    }
   ],
   "source": [
    "monte_carlo(4, 5, 0.4)"
   ]
  }
 ],
 "metadata": {
  "anaconda-cloud": {},
  "kernelspec": {
   "display_name": "Python 3",
   "language": "python",
   "name": "python3"
  },
  "language_info": {
   "codemirror_mode": {
    "name": "ipython",
    "version": 3
   },
   "file_extension": ".py",
   "mimetype": "text/x-python",
   "name": "python",
   "nbconvert_exporter": "python",
   "pygments_lexer": "ipython3",
   "version": "3.6.7"
  }
 },
 "nbformat": 4,
 "nbformat_minor": 2
}
